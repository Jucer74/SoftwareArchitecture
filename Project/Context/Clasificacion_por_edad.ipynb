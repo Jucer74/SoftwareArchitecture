{
  "cells": [
    {
      "cell_type": "markdown",
      "metadata": {
        "id": "LREck-vQFx9p"
      },
      "source": [
        "# **Importamos el data set (Kaggle)**"
      ]
    },
    {
      "cell_type": "code",
      "execution_count": 27,
      "metadata": {
        "colab": {
          "base_uri": "https://localhost:8080/"
        },
        "id": "tiwSXO5DKvxU",
        "outputId": "80ce62aa-cfde-4faf-a32e-dd3caf21959b"
      },
      "outputs": [
        {
          "name": "stdout",
          "output_type": "stream",
          "text": [
            "Datos importados correctamente.\n"
          ]
        }
      ],
      "source": [
        "#Dataset\n",
        "import kagglehub\n",
        "jangedoo_utkface_new_path = kagglehub.dataset_download('jangedoo/utkface-new')\n",
        "\n",
        "print('Datos importados correctamente.')\n"
      ]
    },
    {
      "cell_type": "markdown",
      "metadata": {
        "id": "6bqwqbPbLAS_"
      },
      "source": [
        "# **Importamos las librerias necesarias**"
      ]
    },
    {
      "cell_type": "code",
      "execution_count": 28,
      "metadata": {
        "id": "AU8lJ-0eLCvC"
      },
      "outputs": [],
      "source": [
        "import pandas as pd\n",
        "import numpy as np\n",
        "import seaborn as sns\n",
        "import random\n",
        "import os\n",
        "from PIL import Image, ImageOps\n",
        "from sklearn.model_selection import train_test_split\n",
        "\n",
        "from keras.models import Sequential\n",
        "from keras.layers import Conv2D, MaxPooling2D, Activation, Dropout, Flatten, Dense\n",
        "from keras import optimizers\n",
        "from tensorflow.keras.preprocessing.image import ImageDataGenerator\n",
        "import tensorflow as tf\n",
        "from tensorflow.keras.models import load_model\n",
        "from tensorflow.keras.optimizers import Adam"
      ]
    },
    {
      "cell_type": "markdown",
      "metadata": {
        "id": "4Mrly14kLEy5"
      },
      "source": [
        "# **Cargamos y ordenamos la data.**"
      ]
    },
    {
      "cell_type": "code",
      "execution_count": 29,
      "metadata": {
        "id": "U3WJ0MTGLLxd"
      },
      "outputs": [],
      "source": [
        "images = []\n",
        "ages = []\n",
        "\n",
        "\n",
        "for i in os.listdir(os.path.join(jangedoo_utkface_new_path, 'crop_part1'))[0:8000]:\n",
        "  split = i.split('_')\n",
        "  ages.append(int(split[0]))\n",
        "  images.append(Image.open(os.path.join(jangedoo_utkface_new_path, 'crop_part1', i)))\n"
      ]
    },
    {
      "cell_type": "markdown",
      "metadata": {
        "id": "vjPxyxZ0lLJK"
      },
      "source": [
        "### **Organizamos la data en un DataFrame**"
      ]
    },
    {
      "cell_type": "code",
      "execution_count": 30,
      "metadata": {
        "colab": {
          "base_uri": "https://localhost:8080/",
          "height": 424
        },
        "id": "mlQxbfxHLTCi",
        "outputId": "2fbef3ec-512f-4e0b-8d12-e5466146a0ae"
      },
      "outputs": [
        {
          "data": {
            "text/html": [
              "<div>\n",
              "<style scoped>\n",
              "    .dataframe tbody tr th:only-of-type {\n",
              "        vertical-align: middle;\n",
              "    }\n",
              "\n",
              "    .dataframe tbody tr th {\n",
              "        vertical-align: top;\n",
              "    }\n",
              "\n",
              "    .dataframe thead th {\n",
              "        text-align: right;\n",
              "    }\n",
              "</style>\n",
              "<table border=\"1\" class=\"dataframe\">\n",
              "  <thead>\n",
              "    <tr style=\"text-align: right;\">\n",
              "      <th></th>\n",
              "      <th>Images</th>\n",
              "      <th>Ages</th>\n",
              "    </tr>\n",
              "  </thead>\n",
              "  <tbody>\n",
              "    <tr>\n",
              "      <th>0</th>\n",
              "      <td>&lt;PIL.JpegImagePlugin.JpegImageFile image mode=...</td>\n",
              "      <td>100</td>\n",
              "    </tr>\n",
              "    <tr>\n",
              "      <th>1</th>\n",
              "      <td>&lt;PIL.JpegImagePlugin.JpegImageFile image mode=...</td>\n",
              "      <td>100</td>\n",
              "    </tr>\n",
              "    <tr>\n",
              "      <th>2</th>\n",
              "      <td>&lt;PIL.JpegImagePlugin.JpegImageFile image mode=...</td>\n",
              "      <td>101</td>\n",
              "    </tr>\n",
              "    <tr>\n",
              "      <th>3</th>\n",
              "      <td>&lt;PIL.JpegImagePlugin.JpegImageFile image mode=...</td>\n",
              "      <td>10</td>\n",
              "    </tr>\n",
              "    <tr>\n",
              "      <th>4</th>\n",
              "      <td>&lt;PIL.JpegImagePlugin.JpegImageFile image mode=...</td>\n",
              "      <td>10</td>\n",
              "    </tr>\n",
              "    <tr>\n",
              "      <th>...</th>\n",
              "      <td>...</td>\n",
              "      <td>...</td>\n",
              "    </tr>\n",
              "    <tr>\n",
              "      <th>7995</th>\n",
              "      <td>&lt;PIL.JpegImagePlugin.JpegImageFile image mode=...</td>\n",
              "      <td>63</td>\n",
              "    </tr>\n",
              "    <tr>\n",
              "      <th>7996</th>\n",
              "      <td>&lt;PIL.JpegImagePlugin.JpegImageFile image mode=...</td>\n",
              "      <td>63</td>\n",
              "    </tr>\n",
              "    <tr>\n",
              "      <th>7997</th>\n",
              "      <td>&lt;PIL.JpegImagePlugin.JpegImageFile image mode=...</td>\n",
              "      <td>63</td>\n",
              "    </tr>\n",
              "    <tr>\n",
              "      <th>7998</th>\n",
              "      <td>&lt;PIL.JpegImagePlugin.JpegImageFile image mode=...</td>\n",
              "      <td>63</td>\n",
              "    </tr>\n",
              "    <tr>\n",
              "      <th>7999</th>\n",
              "      <td>&lt;PIL.JpegImagePlugin.JpegImageFile image mode=...</td>\n",
              "      <td>63</td>\n",
              "    </tr>\n",
              "  </tbody>\n",
              "</table>\n",
              "<p>8000 rows × 2 columns</p>\n",
              "</div>"
            ],
            "text/plain": [
              "                                                 Images  Ages\n",
              "0     <PIL.JpegImagePlugin.JpegImageFile image mode=...   100\n",
              "1     <PIL.JpegImagePlugin.JpegImageFile image mode=...   100\n",
              "2     <PIL.JpegImagePlugin.JpegImageFile image mode=...   101\n",
              "3     <PIL.JpegImagePlugin.JpegImageFile image mode=...    10\n",
              "4     <PIL.JpegImagePlugin.JpegImageFile image mode=...    10\n",
              "...                                                 ...   ...\n",
              "7995  <PIL.JpegImagePlugin.JpegImageFile image mode=...    63\n",
              "7996  <PIL.JpegImagePlugin.JpegImageFile image mode=...    63\n",
              "7997  <PIL.JpegImagePlugin.JpegImageFile image mode=...    63\n",
              "7998  <PIL.JpegImagePlugin.JpegImageFile image mode=...    63\n",
              "7999  <PIL.JpegImagePlugin.JpegImageFile image mode=...    63\n",
              "\n",
              "[8000 rows x 2 columns]"
            ]
          },
          "execution_count": 30,
          "metadata": {},
          "output_type": "execute_result"
        }
      ],
      "source": [
        "images = pd.Series(list(images), name = 'Images')\n",
        "ages = pd.Series(list(ages), name = 'Ages')\n",
        "\n",
        "df = pd.concat([images, ages], axis=1)\n",
        "df"
      ]
    },
    {
      "cell_type": "markdown",
      "metadata": {
        "id": "BvHKEKklSJLg"
      },
      "source": [
        "### **Example:**"
      ]
    },
    {
      "cell_type": "code",
      "execution_count": 31,
      "metadata": {
        "colab": {
          "base_uri": "https://localhost:8080/",
          "height": 235
        },
        "id": "X4AIxHleSIoe",
        "outputId": "8f5eb637-d13f-441a-e715-425e881497b2"
      },
      "outputs": [
        {
          "data": {
            "image/jpeg": "[encoded data removed]",
            "image/png": "[encoded data removed]",
            "text/plain": [
              "<PIL.JpegImagePlugin.JpegImageFile image mode=RGB size=200x200>"
            ]
          },
          "metadata": {},
          "output_type": "display_data"
        },
        {
          "name": "stdout",
          "output_type": "stream",
          "text": [
            "100\n"
          ]
        }
      ],
      "source": [
        "display(df['Images'][0])\n",
        "print(df['Ages'][0])"
      ]
    },
    {
      "cell_type": "markdown",
      "metadata": {
        "id": "acxIQOGKwUyR"
      },
      "source": [
        "# **Redimención y division de entrenamiento y prueba**"
      ]
    },
    {
      "cell_type": "code",
      "execution_count": 32,
      "metadata": {
        "colab": {
          "base_uri": "https://localhost:8080/"
        },
        "id": "yFX4a83TTCD-",
        "outputId": "7071d25e-39ef-40f7-a58b-0ed1c0b8c931"
      },
      "outputs": [
        {
          "name": "stdout",
          "output_type": "stream",
          "text": [
            "Formas de los conjuntos:\n",
            "X_train: (6400, 64, 64, 3)\n",
            "y_train: (6400,)\n"
          ]
        }
      ],
      "source": [
        "from tensorflow.keras.utils import to_categorical\n",
        "\n",
        "IMG_SIZE = 64  # Tamaño al que redimensionaremos todas las imágenes\n",
        "\n",
        "# Convertimos PIL → NumPy, redimensionamos y normalizamos\n",
        "X = np.array([\n",
        "    np.array(ImageOps.fit(img, (IMG_SIZE, IMG_SIZE))).astype(np.float32) / 255.0\n",
        "    for img in df['Images'] if isinstance(img, Image.Image)\n",
        "])\n",
        "\n",
        "# Convertimos etiquetas (0–4) → one-hot\n",
        "y = np.array(df['Ages'])\n",
        "\n",
        "# División en entrenamiento (80%) y prueba (20%)\n",
        "X_train, X_test, y_train, y_test = train_test_split(X, y, test_size=0.2, random_state=42)\n",
        "\n",
        "print(\"Formas de los conjuntos:\")\n",
        "print(\"X_train:\", X_train.shape)\n",
        "print(\"y_train:\", y_train.shape)\n"
      ]
    },
    {
      "cell_type": "markdown",
      "metadata": {
        "id": "4uxql3Zkgc23"
      },
      "source": [
        "# **Definición del modelo**"
      ]
    },
    {
      "cell_type": "code",
      "execution_count": 33,
      "metadata": {
        "colab": {
          "base_uri": "https://localhost:8080/",
          "height": 408
        },
        "id": "_mW47nU5V77v",
        "outputId": "ee4548ab-36f7-4253-ae71-f432059edc69"
      },
      "outputs": [
        {
          "name": "stderr",
          "output_type": "stream",
          "text": [
            "c:\\Users\\santi\\AppData\\Local\\Programs\\Python\\Python312\\Lib\\site-packages\\keras\\src\\layers\\convolutional\\base_conv.py:107: UserWarning: Do not pass an `input_shape`/`input_dim` argument to a layer. When using Sequential models, prefer using an `Input(shape)` object as the first layer in the model instead.\n",
            "  super().__init__(activity_regularizer=activity_regularizer, **kwargs)\n"
          ]
        },
        {
          "data": {
            "text/html": [
              "<pre style=\"white-space:pre;overflow-x:auto;line-height:normal;font-family:Menlo,'DejaVu Sans Mono',consolas,'Courier New',monospace\"><span style=\"font-weight: bold\">Model: \"sequential_1\"</span>\n",
              "</pre>\n"
            ],
            "text/plain": [
              "\u001b[1mModel: \"sequential_1\"\u001b[0m\n"
            ]
          },
          "metadata": {},
          "output_type": "display_data"
        },
        {
          "data": {
            "text/html": [
              "<pre style=\"white-space:pre;overflow-x:auto;line-height:normal;font-family:Menlo,'DejaVu Sans Mono',consolas,'Courier New',monospace\">┏━━━━━━━━━━━━━━━━━━━━━━━━━━━━━━━━━┳━━━━━━━━━━━━━━━━━━━━━━━━┳━━━━━━━━━━━━━━━┓\n",
              "┃<span style=\"font-weight: bold\"> Layer (type)                    </span>┃<span style=\"font-weight: bold\"> Output Shape           </span>┃<span style=\"font-weight: bold\">       Param # </span>┃\n",
              "┡━━━━━━━━━━━━━━━━━━━━━━━━━━━━━━━━━╇━━━━━━━━━━━━━━━━━━━━━━━━╇━━━━━━━━━━━━━━━┩\n",
              "│ conv2d_2 (<span style=\"color: #0087ff; text-decoration-color: #0087ff\">Conv2D</span>)               │ (<span style=\"color: #00d7ff; text-decoration-color: #00d7ff\">None</span>, <span style=\"color: #00af00; text-decoration-color: #00af00\">62</span>, <span style=\"color: #00af00; text-decoration-color: #00af00\">62</span>, <span style=\"color: #00af00; text-decoration-color: #00af00\">32</span>)     │           <span style=\"color: #00af00; text-decoration-color: #00af00\">896</span> │\n",
              "├─────────────────────────────────┼────────────────────────┼───────────────┤\n",
              "│ max_pooling2d_2 (<span style=\"color: #0087ff; text-decoration-color: #0087ff\">MaxPooling2D</span>)  │ (<span style=\"color: #00d7ff; text-decoration-color: #00d7ff\">None</span>, <span style=\"color: #00af00; text-decoration-color: #00af00\">31</span>, <span style=\"color: #00af00; text-decoration-color: #00af00\">31</span>, <span style=\"color: #00af00; text-decoration-color: #00af00\">32</span>)     │             <span style=\"color: #00af00; text-decoration-color: #00af00\">0</span> │\n",
              "├─────────────────────────────────┼────────────────────────┼───────────────┤\n",
              "│ conv2d_3 (<span style=\"color: #0087ff; text-decoration-color: #0087ff\">Conv2D</span>)               │ (<span style=\"color: #00d7ff; text-decoration-color: #00d7ff\">None</span>, <span style=\"color: #00af00; text-decoration-color: #00af00\">29</span>, <span style=\"color: #00af00; text-decoration-color: #00af00\">29</span>, <span style=\"color: #00af00; text-decoration-color: #00af00\">64</span>)     │        <span style=\"color: #00af00; text-decoration-color: #00af00\">18,496</span> │\n",
              "├─────────────────────────────────┼────────────────────────┼───────────────┤\n",
              "│ max_pooling2d_3 (<span style=\"color: #0087ff; text-decoration-color: #0087ff\">MaxPooling2D</span>)  │ (<span style=\"color: #00d7ff; text-decoration-color: #00d7ff\">None</span>, <span style=\"color: #00af00; text-decoration-color: #00af00\">14</span>, <span style=\"color: #00af00; text-decoration-color: #00af00\">14</span>, <span style=\"color: #00af00; text-decoration-color: #00af00\">64</span>)     │             <span style=\"color: #00af00; text-decoration-color: #00af00\">0</span> │\n",
              "├─────────────────────────────────┼────────────────────────┼───────────────┤\n",
              "│ flatten_1 (<span style=\"color: #0087ff; text-decoration-color: #0087ff\">Flatten</span>)             │ (<span style=\"color: #00d7ff; text-decoration-color: #00d7ff\">None</span>, <span style=\"color: #00af00; text-decoration-color: #00af00\">12544</span>)          │             <span style=\"color: #00af00; text-decoration-color: #00af00\">0</span> │\n",
              "├─────────────────────────────────┼────────────────────────┼───────────────┤\n",
              "│ dense_2 (<span style=\"color: #0087ff; text-decoration-color: #0087ff\">Dense</span>)                 │ (<span style=\"color: #00d7ff; text-decoration-color: #00d7ff\">None</span>, <span style=\"color: #00af00; text-decoration-color: #00af00\">128</span>)            │     <span style=\"color: #00af00; text-decoration-color: #00af00\">1,605,760</span> │\n",
              "├─────────────────────────────────┼────────────────────────┼───────────────┤\n",
              "│ dropout_1 (<span style=\"color: #0087ff; text-decoration-color: #0087ff\">Dropout</span>)             │ (<span style=\"color: #00d7ff; text-decoration-color: #00d7ff\">None</span>, <span style=\"color: #00af00; text-decoration-color: #00af00\">128</span>)            │             <span style=\"color: #00af00; text-decoration-color: #00af00\">0</span> │\n",
              "├─────────────────────────────────┼────────────────────────┼───────────────┤\n",
              "│ dense_3 (<span style=\"color: #0087ff; text-decoration-color: #0087ff\">Dense</span>)                 │ (<span style=\"color: #00d7ff; text-decoration-color: #00d7ff\">None</span>, <span style=\"color: #00af00; text-decoration-color: #00af00\">1</span>)              │           <span style=\"color: #00af00; text-decoration-color: #00af00\">129</span> │\n",
              "└─────────────────────────────────┴────────────────────────┴───────────────┘\n",
              "</pre>\n"
            ],
            "text/plain": [
              "┏━━━━━━━━━━━━━━━━━━━━━━━━━━━━━━━━━┳━━━━━━━━━━━━━━━━━━━━━━━━┳━━━━━━━━━━━━━━━┓\n",
              "┃\u001b[1m \u001b[0m\u001b[1mLayer (type)                   \u001b[0m\u001b[1m \u001b[0m┃\u001b[1m \u001b[0m\u001b[1mOutput Shape          \u001b[0m\u001b[1m \u001b[0m┃\u001b[1m \u001b[0m\u001b[1m      Param #\u001b[0m\u001b[1m \u001b[0m┃\n",
              "┡━━━━━━━━━━━━━━━━━━━━━━━━━━━━━━━━━╇━━━━━━━━━━━━━━━━━━━━━━━━╇━━━━━━━━━━━━━━━┩\n",
              "│ conv2d_2 (\u001b[38;5;33mConv2D\u001b[0m)               │ (\u001b[38;5;45mNone\u001b[0m, \u001b[38;5;34m62\u001b[0m, \u001b[38;5;34m62\u001b[0m, \u001b[38;5;34m32\u001b[0m)     │           \u001b[38;5;34m896\u001b[0m │\n",
              "├─────────────────────────────────┼────────────────────────┼───────────────┤\n",
              "│ max_pooling2d_2 (\u001b[38;5;33mMaxPooling2D\u001b[0m)  │ (\u001b[38;5;45mNone\u001b[0m, \u001b[38;5;34m31\u001b[0m, \u001b[38;5;34m31\u001b[0m, \u001b[38;5;34m32\u001b[0m)     │             \u001b[38;5;34m0\u001b[0m │\n",
              "├─────────────────────────────────┼────────────────────────┼───────────────┤\n",
              "│ conv2d_3 (\u001b[38;5;33mConv2D\u001b[0m)               │ (\u001b[38;5;45mNone\u001b[0m, \u001b[38;5;34m29\u001b[0m, \u001b[38;5;34m29\u001b[0m, \u001b[38;5;34m64\u001b[0m)     │        \u001b[38;5;34m18,496\u001b[0m │\n",
              "├─────────────────────────────────┼────────────────────────┼───────────────┤\n",
              "│ max_pooling2d_3 (\u001b[38;5;33mMaxPooling2D\u001b[0m)  │ (\u001b[38;5;45mNone\u001b[0m, \u001b[38;5;34m14\u001b[0m, \u001b[38;5;34m14\u001b[0m, \u001b[38;5;34m64\u001b[0m)     │             \u001b[38;5;34m0\u001b[0m │\n",
              "├─────────────────────────────────┼────────────────────────┼───────────────┤\n",
              "│ flatten_1 (\u001b[38;5;33mFlatten\u001b[0m)             │ (\u001b[38;5;45mNone\u001b[0m, \u001b[38;5;34m12544\u001b[0m)          │             \u001b[38;5;34m0\u001b[0m │\n",
              "├─────────────────────────────────┼────────────────────────┼───────────────┤\n",
              "│ dense_2 (\u001b[38;5;33mDense\u001b[0m)                 │ (\u001b[38;5;45mNone\u001b[0m, \u001b[38;5;34m128\u001b[0m)            │     \u001b[38;5;34m1,605,760\u001b[0m │\n",
              "├─────────────────────────────────┼────────────────────────┼───────────────┤\n",
              "│ dropout_1 (\u001b[38;5;33mDropout\u001b[0m)             │ (\u001b[38;5;45mNone\u001b[0m, \u001b[38;5;34m128\u001b[0m)            │             \u001b[38;5;34m0\u001b[0m │\n",
              "├─────────────────────────────────┼────────────────────────┼───────────────┤\n",
              "│ dense_3 (\u001b[38;5;33mDense\u001b[0m)                 │ (\u001b[38;5;45mNone\u001b[0m, \u001b[38;5;34m1\u001b[0m)              │           \u001b[38;5;34m129\u001b[0m │\n",
              "└─────────────────────────────────┴────────────────────────┴───────────────┘\n"
            ]
          },
          "metadata": {},
          "output_type": "display_data"
        },
        {
          "data": {
            "text/html": [
              "<pre style=\"white-space:pre;overflow-x:auto;line-height:normal;font-family:Menlo,'DejaVu Sans Mono',consolas,'Courier New',monospace\"><span style=\"font-weight: bold\"> Total params: </span><span style=\"color: #00af00; text-decoration-color: #00af00\">1,625,281</span> (6.20 MB)\n",
              "</pre>\n"
            ],
            "text/plain": [
              "\u001b[1m Total params: \u001b[0m\u001b[38;5;34m1,625,281\u001b[0m (6.20 MB)\n"
            ]
          },
          "metadata": {},
          "output_type": "display_data"
        },
        {
          "data": {
            "text/html": [
              "<pre style=\"white-space:pre;overflow-x:auto;line-height:normal;font-family:Menlo,'DejaVu Sans Mono',consolas,'Courier New',monospace\"><span style=\"font-weight: bold\"> Trainable params: </span><span style=\"color: #00af00; text-decoration-color: #00af00\">1,625,281</span> (6.20 MB)\n",
              "</pre>\n"
            ],
            "text/plain": [
              "\u001b[1m Trainable params: \u001b[0m\u001b[38;5;34m1,625,281\u001b[0m (6.20 MB)\n"
            ]
          },
          "metadata": {},
          "output_type": "display_data"
        },
        {
          "data": {
            "text/html": [
              "<pre style=\"white-space:pre;overflow-x:auto;line-height:normal;font-family:Menlo,'DejaVu Sans Mono',consolas,'Courier New',monospace\"><span style=\"font-weight: bold\"> Non-trainable params: </span><span style=\"color: #00af00; text-decoration-color: #00af00\">0</span> (0.00 B)\n",
              "</pre>\n"
            ],
            "text/plain": [
              "\u001b[1m Non-trainable params: \u001b[0m\u001b[38;5;34m0\u001b[0m (0.00 B)\n"
            ]
          },
          "metadata": {},
          "output_type": "display_data"
        }
      ],
      "source": [
        "model = Sequential()\n",
        "\n",
        "# Primera capa convolucional\n",
        "model.add(Conv2D(32, (3, 3), activation='relu', input_shape=(64, 64, 3)))\n",
        "model.add(MaxPooling2D(pool_size=(2, 2)))\n",
        "\n",
        "# Segunda capa\n",
        "model.add(Conv2D(64, (3, 3), activation='relu'))\n",
        "model.add(MaxPooling2D(pool_size=(2, 2)))\n",
        "\n",
        "# Aplanado\n",
        "model.add(Flatten())\n",
        "\n",
        "# Capa densa intermedia\n",
        "model.add(Dense(128, activation='relu'))\n",
        "model.add(Dropout(0.5))\n",
        "\n",
        "# Capa de salida para regresión\n",
        "model.add(Dense(1, activation='linear'))  # Una salida con activación lineal para regresión\n",
        "\n",
        "# Compilar\n",
        "model.compile(loss='mean_squared_error',  # Usamos MSE para regresión\n",
        "              optimizer='adam',\n",
        "              metrics=['mean_absolute_error'])  # Usamos MAE como métrica para regresión\n",
        "\n",
        "model.summary()\n"
      ]
    },
    {
      "cell_type": "markdown",
      "metadata": {
        "id": "gch8NH3pYNyi"
      },
      "source": [
        "# **Primer entrenamiento del modelo**"
      ]
    },
    {
      "cell_type": "code",
      "execution_count": 13,
      "metadata": {
        "colab": {
          "base_uri": "https://localhost:8080/"
        },
        "id": "sFmLNhCuWIha",
        "outputId": "96f33988-2395-46b2-f86b-93ad3fd4911a"
      },
      "outputs": [
        {
          "name": "stdout",
          "output_type": "stream",
          "text": [
            "Epoch 1/10\n",
            "\u001b[1m80/80\u001b[0m \u001b[32m━━━━━━━━━━━━━━━━━━━━\u001b[0m\u001b[37m\u001b[0m \u001b[1m38s\u001b[0m 421ms/step - loss: 825.7328 - mean_absolute_error: 22.8405 - val_loss: 674.2018 - val_mean_absolute_error: 20.6543\n",
            "Epoch 2/10\n",
            "\u001b[1m80/80\u001b[0m \u001b[32m━━━━━━━━━━━━━━━━━━━━\u001b[0m\u001b[37m\u001b[0m \u001b[1m39s\u001b[0m 406ms/step - loss: 566.0007 - mean_absolute_error: 19.3835 - val_loss: 360.7730 - val_mean_absolute_error: 15.9189\n",
            "Epoch 3/10\n",
            "\u001b[1m80/80\u001b[0m \u001b[32m━━━━━━━━━━━━━━━━━━━━\u001b[0m\u001b[37m\u001b[0m \u001b[1m34s\u001b[0m 315ms/step - loss: 358.5747 - mean_absolute_error: 14.3156 - val_loss: 350.9156 - val_mean_absolute_error: 15.7058\n",
            "Epoch 4/10\n",
            "\u001b[1m80/80\u001b[0m \u001b[32m━━━━━━━━━━━━━━━━━━━━\u001b[0m\u001b[37m\u001b[0m \u001b[1m43s\u001b[0m 345ms/step - loss: 334.3254 - mean_absolute_error: 13.7688 - val_loss: 241.0665 - val_mean_absolute_error: 11.4455\n",
            "Epoch 5/10\n",
            "\u001b[1m80/80\u001b[0m \u001b[32m━━━━━━━━━━━━━━━━━━━━\u001b[0m\u001b[37m\u001b[0m \u001b[1m39s\u001b[0m 323ms/step - loss: 280.3081 - mean_absolute_error: 12.3438 - val_loss: 234.8828 - val_mean_absolute_error: 11.7144\n",
            "Epoch 6/10\n",
            "\u001b[1m80/80\u001b[0m \u001b[32m━━━━━━━━━━━━━━━━━━━━\u001b[0m\u001b[37m\u001b[0m \u001b[1m42s\u001b[0m 336ms/step - loss: 264.3412 - mean_absolute_error: 11.9355 - val_loss: 216.6460 - val_mean_absolute_error: 11.0576\n",
            "Epoch 7/10\n",
            "\u001b[1m80/80\u001b[0m \u001b[32m━━━━━━━━━━━━━━━━━━━━\u001b[0m\u001b[37m\u001b[0m \u001b[1m41s\u001b[0m 338ms/step - loss: 243.2347 - mean_absolute_error: 11.3201 - val_loss: 213.0240 - val_mean_absolute_error: 10.2536\n",
            "Epoch 8/10\n",
            "\u001b[1m80/80\u001b[0m \u001b[32m━━━━━━━━━━━━━━━━━━━━\u001b[0m\u001b[37m\u001b[0m \u001b[1m41s\u001b[0m 338ms/step - loss: 225.1821 - mean_absolute_error: 10.7225 - val_loss: 208.3658 - val_mean_absolute_error: 10.1822\n",
            "Epoch 9/10\n",
            "\u001b[1m80/80\u001b[0m \u001b[32m━━━━━━━━━━━━━━━━━━━━\u001b[0m\u001b[37m\u001b[0m \u001b[1m41s\u001b[0m 337ms/step - loss: 229.3982 - mean_absolute_error: 11.0379 - val_loss: 207.2674 - val_mean_absolute_error: 10.0641\n",
            "Epoch 10/10\n",
            "\u001b[1m80/80\u001b[0m \u001b[32m━━━━━━━━━━━━━━━━━━━━\u001b[0m\u001b[37m\u001b[0m \u001b[1m41s\u001b[0m 336ms/step - loss: 199.3620 - mean_absolute_error: 10.2133 - val_loss: 181.9732 - val_mean_absolute_error: 9.4184\n"
          ]
        },
        {
          "name": "stderr",
          "output_type": "stream",
          "text": [
            "WARNING:absl:You are saving your model as an HDF5 file via `model.save()` or `keras.saving.save_model(model)`. This file format is considered legacy. We recommend using instead the native Keras format, e.g. `model.save('my_model.keras')` or `keras.saving.save_model(model, 'my_model.keras')`. \n"
          ]
        },
        {
          "name": "stdout",
          "output_type": "stream",
          "text": [
            "Modelo guardado.\n"
          ]
        }
      ],
      "source": [
        "# Primer entrenamiento\n",
        "\n",
        "history1 = model.fit(\n",
        "    X_train, y_train,\n",
        "    epochs=10,\n",
        "    batch_size=64,\n",
        "    validation_split=0.2,\n",
        "    shuffle=True\n",
        ")\n",
        "\n",
        "model.save(\"modelo_utkface_age.h5\")\n",
        "print(\"Modelo guardado.\")"
      ]
    },
    {
      "cell_type": "markdown",
      "metadata": {
        "id": "E_oeme8kklt0"
      },
      "source": [
        "# **Seguir entrenando el modelo**"
      ]
    },
    {
      "cell_type": "code",
      "execution_count": 34,
      "metadata": {
        "colab": {
          "base_uri": "https://localhost:8080/",
          "height": 502
        },
        "id": "tZhlboAUhO2p",
        "outputId": "1a0cdc2f-152c-4a50-d178-30b3ee64ef4b"
      },
      "outputs": [
        {
          "name": "stderr",
          "output_type": "stream",
          "text": [
            "WARNING:absl:Compiled the loaded model, but the compiled metrics have yet to be built. `model.compile_metrics` will be empty until you train or evaluate the model.\n"
          ]
        },
        {
          "name": "stdout",
          "output_type": "stream",
          "text": [
            "Epoch 1/3\n",
            "\u001b[1m80/80\u001b[0m \u001b[32m━━━━━━━━━━━━━━━━━━━━\u001b[0m\u001b[37m\u001b[0m \u001b[1m12s\u001b[0m 117ms/step - loss: 137.0112 - mean_absolute_error: 8.3934 - val_loss: 85.8747 - val_mean_absolute_error: 6.6204\n",
            "Epoch 2/3\n",
            "\u001b[1m80/80\u001b[0m \u001b[32m━━━━━━━━━━━━━━━━━━━━\u001b[0m\u001b[37m\u001b[0m \u001b[1m9s\u001b[0m 113ms/step - loss: 110.4196 - mean_absolute_error: 7.4728 - val_loss: 83.4565 - val_mean_absolute_error: 6.4050\n",
            "Epoch 3/3\n",
            "\u001b[1m80/80\u001b[0m \u001b[32m━━━━━━━━━━━━━━━━━━━━\u001b[0m\u001b[37m\u001b[0m \u001b[1m10s\u001b[0m 120ms/step - loss: 104.7936 - mean_absolute_error: 7.2141 - val_loss: 120.1098 - val_mean_absolute_error: 7.5595\n"
          ]
        },
        {
          "name": "stderr",
          "output_type": "stream",
          "text": [
            "WARNING:absl:You are saving your model as an HDF5 file via `model.save()` or `keras.saving.save_model(model)`. This file format is considered legacy. We recommend using instead the native Keras format, e.g. `model.save('my_model.keras')` or `keras.saving.save_model(model, 'my_model.keras')`. \n"
          ]
        },
        {
          "name": "stdout",
          "output_type": "stream",
          "text": [
            "Entrenamiento completado y modelo actualizado.\n"
          ]
        }
      ],
      "source": [
        "#Seguir entrenando el modelo\n",
        "#Solo ejecutar si ya se ha entrenado antes!\n",
        "\n",
        "\n",
        "# Cargar el modelo guardado\n",
        "model = load_model(\"modelo_utkface_age.h5\")\n",
        "\n",
        "# Recompilar el modelo con las mismas configuraciones\n",
        "model.compile(\n",
        "    loss='mean_squared_error',\n",
        "    optimizer=Adam(),\n",
        "    metrics=['mean_absolute_error']\n",
        ")\n",
        "\n",
        "\n",
        "# Continuar el entrenamiento\n",
        "history2 = model.fit(\n",
        "    X_train, y_train,\n",
        "    epochs=3,               # Epocas para agregar al entrenamiento\n",
        "    batch_size=64,\n",
        "    validation_split=0.2,\n",
        "    shuffle=True\n",
        ")\n",
        "\n",
        "# Opcional: Guardar el modelo\n",
        "model.save(\"modelo_utkface_age.h5\")\n",
        "print(\"Entrenamiento completado y modelo actualizado.\")\n"
      ]
    },
    {
      "cell_type": "markdown",
      "metadata": {
        "id": "sgqiswfKpbp2"
      },
      "source": [
        "# **Cargar Modelo**"
      ]
    },
    {
      "cell_type": "code",
      "execution_count": 20,
      "metadata": {
        "colab": {
          "base_uri": "https://localhost:8080/"
        },
        "id": "9_b4eIFbpbZC",
        "outputId": "48cb3708-2e08-4ca2-dab9-446ac111774c"
      },
      "outputs": [
        {
          "name": "stderr",
          "output_type": "stream",
          "text": [
            "WARNING:absl:Compiled the loaded model, but the compiled metrics have yet to be built. `model.compile_metrics` will be empty until you train or evaluate the model.\n"
          ]
        },
        {
          "name": "stdout",
          "output_type": "stream",
          "text": [
            "\u001b[1m50/50\u001b[0m \u001b[32m━━━━━━━━━━━━━━━━━━━━\u001b[0m\u001b[37m\u001b[0m \u001b[1m1s\u001b[0m 17ms/step - loss: 112.8519 - mean_absolute_error: 7.5083\n"
          ]
        },
        {
          "data": {
            "text/plain": [
              "[109.72352600097656, 7.46054744720459]"
            ]
          },
          "execution_count": 20,
          "metadata": {},
          "output_type": "execute_result"
        }
      ],
      "source": [
        "#Solo ejecutar si ya se ha entrenado antes!\n",
        "model = load_model(\"modelo_utkface_age.h5\")\n",
        "model.evaluate(X_test, y_test)"
      ]
    },
    {
      "cell_type": "markdown",
      "metadata": {
        "id": "pxn8k0wEksbV"
      },
      "source": [
        "# **Graficar metricas del modelo**"
      ]
    },
    {
      "cell_type": "code",
      "execution_count": 35,
      "metadata": {
        "colab": {
          "base_uri": "https://localhost:8080/",
          "height": 931
        },
        "id": "u_P6x7t4WKZC",
        "outputId": "873cfe44-2dc5-4690-b088-c60ee95c03d9"
      },
      "outputs": [
        {
          "ename": "NameError",
          "evalue": "No se encontró ninguna variable de historial de entrenamiento.",
          "output_type": "error",
          "traceback": [
            "\u001b[31m---------------------------------------------------------------------------\u001b[39m",
            "\u001b[31mNameError\u001b[39m                                 Traceback (most recent call last)",
            "\u001b[36mCell\u001b[39m\u001b[36m \u001b[39m\u001b[32mIn[35]\u001b[39m\u001b[32m, line 20\u001b[39m\n\u001b[32m     18\u001b[39m     val_loss = history.history[\u001b[33m'\u001b[39m\u001b[33mval_loss\u001b[39m\u001b[33m'\u001b[39m]\n\u001b[32m     19\u001b[39m \u001b[38;5;28;01melse\u001b[39;00m:\n\u001b[32m---> \u001b[39m\u001b[32m20\u001b[39m     \u001b[38;5;28;01mraise\u001b[39;00m \u001b[38;5;167;01mNameError\u001b[39;00m(\u001b[33m\"\u001b[39m\u001b[33mNo se encontró ninguna variable de historial de entrenamiento.\u001b[39m\u001b[33m\"\u001b[39m)\n\u001b[32m     22\u001b[39m \u001b[38;5;66;03m# Gráficas\u001b[39;00m\n\u001b[32m     23\u001b[39m plt.plot(mae, label=\u001b[33m'\u001b[39m\u001b[33mTrain MAE\u001b[39m\u001b[33m'\u001b[39m)\n",
            "\u001b[31mNameError\u001b[39m: No se encontró ninguna variable de historial de entrenamiento."
          ]
        }
      ],
      "source": [
        "import matplotlib.pyplot as plt\n",
        "\n",
        "# Verifica qué historiales están disponibles\n",
        "if 'history1' in globals() and 'history2' in globals():\n",
        "    mae = history1.history['mean_absolute_error'] + history2.history['mean_absolute_error']\n",
        "    val_mae = history1.history['val_mean_absolute_error'] + history2.history['val_mean_absolute_error']\n",
        "    loss = history1.history['loss'] + history2.history['loss']\n",
        "    val_loss = history1.history['val_loss'] + history2.history['val_loss']\n",
        "elif 'history1' in globals():\n",
        "    mae = history1.history['mean_absolute_error']\n",
        "    val_mae = history1.history['val_mean_absolute_error']\n",
        "    loss = history1.history['loss']\n",
        "    val_loss = history1.history['val_loss']\n",
        "elif 'history' in globals():\n",
        "    mae = history.history['mean_absolute_error']\n",
        "    val_mae = history.history['val_mean_absolute_error']\n",
        "    loss = history.history['loss']\n",
        "    val_loss = history.history['val_loss']\n",
        "else:\n",
        "    raise NameError(\"No se encontró ninguna variable de historial de entrenamiento.\")\n",
        "\n",
        "# Gráficas\n",
        "plt.plot(mae, label='Train MAE')\n",
        "plt.plot(val_mae, label='Validation MAE')\n",
        "plt.title('Error Absoluto Medio')\n",
        "plt.xlabel('Época')\n",
        "plt.ylabel('MAE')\n",
        "plt.legend()\n",
        "plt.show()\n",
        "\n",
        "plt.plot(loss, label='Train Loss')\n",
        "plt.plot(val_loss, label='Validation Loss')\n",
        "plt.title('Pérdida')\n",
        "plt.xlabel('Época')\n",
        "plt.ylabel('Loss')\n",
        "plt.legend()\n",
        "plt.show()\n"
      ]
    },
    {
      "cell_type": "markdown",
      "metadata": {
        "id": "kmJTUjyqkwxc"
      },
      "source": [
        "# **Predicciones**"
      ]
    },
    {
      "cell_type": "code",
      "execution_count": 23,
      "metadata": {
        "colab": {
          "base_uri": "https://localhost:8080/"
        },
        "id": "mxTRaTn6Xz_H",
        "outputId": "2e5e749a-dd11-4a97-c708-a6f0eeade695"
      },
      "outputs": [
        {
          "name": "stdout",
          "output_type": "stream",
          "text": [
            "\u001b[1m50/50\u001b[0m \u001b[32m━━━━━━━━━━━━━━━━━━━━\u001b[0m\u001b[37m\u001b[0m \u001b[1m1s\u001b[0m 20ms/step\n"
          ]
        },
        {
          "ename": "AxisError",
          "evalue": "axis 1 is out of bounds for array of dimension 1",
          "output_type": "error",
          "traceback": [
            "\u001b[31m---------------------------------------------------------------------------\u001b[39m",
            "\u001b[31mAxisError\u001b[39m                                 Traceback (most recent call last)",
            "\u001b[36mCell\u001b[39m\u001b[36m \u001b[39m\u001b[32mIn[23]\u001b[39m\u001b[32m, line 17\u001b[39m\n\u001b[32m     14\u001b[39m predicted_classes = np.argmax(predictions, axis=\u001b[32m1\u001b[39m)\n\u001b[32m     16\u001b[39m \u001b[38;5;66;03m# Convertir también y_test (true labels) de one-hot a índices\u001b[39;00m\n\u001b[32m---> \u001b[39m\u001b[32m17\u001b[39m true_classes = \u001b[43mnp\u001b[49m\u001b[43m.\u001b[49m\u001b[43margmax\u001b[49m\u001b[43m(\u001b[49m\u001b[43my_test\u001b[49m\u001b[43m,\u001b[49m\u001b[43m \u001b[49m\u001b[43maxis\u001b[49m\u001b[43m=\u001b[49m\u001b[32;43m1\u001b[39;49m\u001b[43m)\u001b[49m\n\u001b[32m     19\u001b[39m \u001b[38;5;66;03m# Traducir a nombres de raza\u001b[39;00m\n\u001b[32m     20\u001b[39m predicted_races = [race_labels[i] \u001b[38;5;28;01mfor\u001b[39;00m i \u001b[38;5;129;01min\u001b[39;00m predicted_classes]\n",
            "\u001b[36mFile \u001b[39m\u001b[32mc:\\Users\\santi\\AppData\\Local\\Programs\\Python\\Python312\\Lib\\site-packages\\numpy\\core\\fromnumeric.py:1229\u001b[39m, in \u001b[36margmax\u001b[39m\u001b[34m(a, axis, out, keepdims)\u001b[39m\n\u001b[32m   1142\u001b[39m \u001b[38;5;250m\u001b[39m\u001b[33;03m\"\"\"\u001b[39;00m\n\u001b[32m   1143\u001b[39m \u001b[33;03mReturns the indices of the maximum values along an axis.\u001b[39;00m\n\u001b[32m   1144\u001b[39m \n\u001b[32m   (...)\u001b[39m\u001b[32m   1226\u001b[39m \u001b[33;03m(2, 1, 4)\u001b[39;00m\n\u001b[32m   1227\u001b[39m \u001b[33;03m\"\"\"\u001b[39;00m\n\u001b[32m   1228\u001b[39m kwds = {\u001b[33m'\u001b[39m\u001b[33mkeepdims\u001b[39m\u001b[33m'\u001b[39m: keepdims} \u001b[38;5;28;01mif\u001b[39;00m keepdims \u001b[38;5;129;01mis\u001b[39;00m \u001b[38;5;129;01mnot\u001b[39;00m np._NoValue \u001b[38;5;28;01melse\u001b[39;00m {}\n\u001b[32m-> \u001b[39m\u001b[32m1229\u001b[39m \u001b[38;5;28;01mreturn\u001b[39;00m \u001b[43m_wrapfunc\u001b[49m\u001b[43m(\u001b[49m\u001b[43ma\u001b[49m\u001b[43m,\u001b[49m\u001b[43m \u001b[49m\u001b[33;43m'\u001b[39;49m\u001b[33;43margmax\u001b[39;49m\u001b[33;43m'\u001b[39;49m\u001b[43m,\u001b[49m\u001b[43m \u001b[49m\u001b[43maxis\u001b[49m\u001b[43m=\u001b[49m\u001b[43maxis\u001b[49m\u001b[43m,\u001b[49m\u001b[43m \u001b[49m\u001b[43mout\u001b[49m\u001b[43m=\u001b[49m\u001b[43mout\u001b[49m\u001b[43m,\u001b[49m\u001b[43m \u001b[49m\u001b[43m*\u001b[49m\u001b[43m*\u001b[49m\u001b[43mkwds\u001b[49m\u001b[43m)\u001b[49m\n",
            "\u001b[36mFile \u001b[39m\u001b[32mc:\\Users\\santi\\AppData\\Local\\Programs\\Python\\Python312\\Lib\\site-packages\\numpy\\core\\fromnumeric.py:59\u001b[39m, in \u001b[36m_wrapfunc\u001b[39m\u001b[34m(obj, method, *args, **kwds)\u001b[39m\n\u001b[32m     56\u001b[39m     \u001b[38;5;28;01mreturn\u001b[39;00m _wrapit(obj, method, *args, **kwds)\n\u001b[32m     58\u001b[39m \u001b[38;5;28;01mtry\u001b[39;00m:\n\u001b[32m---> \u001b[39m\u001b[32m59\u001b[39m     \u001b[38;5;28;01mreturn\u001b[39;00m \u001b[43mbound\u001b[49m\u001b[43m(\u001b[49m\u001b[43m*\u001b[49m\u001b[43margs\u001b[49m\u001b[43m,\u001b[49m\u001b[43m \u001b[49m\u001b[43m*\u001b[49m\u001b[43m*\u001b[49m\u001b[43mkwds\u001b[49m\u001b[43m)\u001b[49m\n\u001b[32m     60\u001b[39m \u001b[38;5;28;01mexcept\u001b[39;00m \u001b[38;5;167;01mTypeError\u001b[39;00m:\n\u001b[32m     61\u001b[39m     \u001b[38;5;66;03m# A TypeError occurs if the object does have such a method in its\u001b[39;00m\n\u001b[32m     62\u001b[39m     \u001b[38;5;66;03m# class, but its signature is not identical to that of NumPy's. This\u001b[39;00m\n\u001b[32m   (...)\u001b[39m\u001b[32m     66\u001b[39m     \u001b[38;5;66;03m# Call _wrapit from within the except clause to ensure a potential\u001b[39;00m\n\u001b[32m     67\u001b[39m     \u001b[38;5;66;03m# exception has a traceback chain.\u001b[39;00m\n\u001b[32m     68\u001b[39m     \u001b[38;5;28;01mreturn\u001b[39;00m _wrapit(obj, method, *args, **kwds)\n",
            "\u001b[31mAxisError\u001b[39m: axis 1 is out of bounds for array of dimension 1"
          ]
        }
      ],
      "source": [
        "race_labels = {\n",
        "    0: 'White',\n",
        "    1: 'Black',\n",
        "    2: 'Asian',\n",
        "    3: 'Indian',\n",
        "    4: 'Other'\n",
        "}\n",
        "\n",
        "\n",
        "# Predicción sobre las imágenes de prueba\n",
        "predictions = model.predict(X_test)\n",
        "\n",
        "# Convertir one-hot a índice de clase\n",
        "predicted_classes = np.argmax(predictions, axis=1)\n",
        "\n",
        "# Convertir también y_test (true labels) de one-hot a índices\n",
        "true_classes = np.argmax(y_test, axis=1)\n",
        "\n",
        "# Traducir a nombres de raza\n",
        "predicted_races = [race_labels[i] for i in predicted_classes]\n",
        "true_races = [race_labels[i] for i in true_classes]\n"
      ]
    },
    {
      "cell_type": "markdown",
      "metadata": {
        "id": "EUvRXiZYk9KA"
      },
      "source": [
        "# **Resultados**"
      ]
    },
    {
      "cell_type": "code",
      "execution_count": 36,
      "metadata": {
        "colab": {
          "base_uri": "https://localhost:8080/",
          "height": 904
        },
        "id": "SXLdlQeucs_V",
        "outputId": "a6ee4b4a-1307-49a8-b0ee-483715056fc6"
      },
      "outputs": [
        {
          "ename": "NameError",
          "evalue": "name 'true_ages' is not defined",
          "output_type": "error",
          "traceback": [
            "\u001b[31m---------------------------------------------------------------------------\u001b[39m",
            "\u001b[31mNameError\u001b[39m                                 Traceback (most recent call last)",
            "\u001b[36mCell\u001b[39m\u001b[36m \u001b[39m\u001b[32mIn[36]\u001b[39m\u001b[32m, line 8\u001b[39m\n\u001b[32m      5\u001b[39m random_indices = random.sample(\u001b[38;5;28mrange\u001b[39m(\u001b[38;5;28mlen\u001b[39m(X_test)), \u001b[32m20\u001b[39m)  \u001b[38;5;66;03m# Elegimos 20 imágenes aleatorias\u001b[39;00m\n\u001b[32m      7\u001b[39m \u001b[38;5;66;03m# Calcular error absoluto promedio para estas muestras\u001b[39;00m\n\u001b[32m----> \u001b[39m\u001b[32m8\u001b[39m absolute_errors = [\u001b[38;5;28mabs\u001b[39m(\u001b[43mtrue_ages\u001b[49m[i] - predicted_ages[i]) \u001b[38;5;28;01mfor\u001b[39;00m i \u001b[38;5;129;01min\u001b[39;00m random_indices]\n\u001b[32m      9\u001b[39m mae_subset = np.mean(absolute_errors)\n\u001b[32m     11\u001b[39m \u001b[38;5;66;03m# Configurar el gráfico (4 filas, 5 columnas)\u001b[39;00m\n",
            "\u001b[31mNameError\u001b[39m: name 'true_ages' is not defined"
          ]
        }
      ],
      "source": [
        "import matplotlib.pyplot as plt\n",
        "import numpy as np\n",
        "import random\n",
        "\n",
        "random_indices = random.sample(range(len(X_test)), 20)  # Elegimos 20 imágenes aleatorias\n",
        "\n",
        "# Calcular error absoluto promedio para estas muestras\n",
        "absolute_errors = [abs(true_ages[i] - predicted_ages[i]) for i in random_indices]\n",
        "mae_subset = np.mean(absolute_errors)\n",
        "\n",
        "# Configurar el gráfico (4 filas, 5 columnas)\n",
        "fig, axes = plt.subplots(4, 5, figsize=(15, 9))\n",
        "axes = axes.flatten()\n",
        "\n",
        "for idx, i in enumerate(random_indices):\n",
        "    ax = axes[idx]\n",
        "    ax.imshow(X_test[i])\n",
        "    ax.set_title(f\"Pred: {predicted_ages[i]:.1f}\\nReal: {true_ages[i]}\")\n",
        "    ax.axis('off')\n",
        "\n",
        "# Mostrar error medio\n",
        "plt.suptitle(f\"Error absoluto medio (subset): {mae_subset:.2f}\", fontsize=16)\n",
        "plt.tight_layout()\n",
        "plt.subplots_adjust(top=0.9)\n",
        "plt.show()\n"
      ]
    }
  ],
  "metadata": {
    "colab": {
      "provenance": []
    },
    "kernelspec": {
      "display_name": "Python 3",
      "name": "python3"
    },
    "language_info": {
      "codemirror_mode": {
        "name": "ipython",
        "version": 3
      },
      "file_extension": ".py",
      "mimetype": "text/x-python",
      "name": "python",
      "nbconvert_exporter": "python",
      "pygments_lexer": "ipython3",
      "version": "3.12.2"
    }
  },
  "nbformat": 4,
  "nbformat_minor": 0
}
